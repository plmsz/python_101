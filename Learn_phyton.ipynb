{
  "nbformat": 4,
  "nbformat_minor": 0,
  "metadata": {
    "colab": {
      "provenance": [],
      "authorship_tag": "ABX9TyOI93aTyQ4Ohrc33WQgYHqc",
      "include_colab_link": true
    },
    "kernelspec": {
      "name": "python3",
      "display_name": "Python 3"
    },
    "language_info": {
      "name": "python"
    }
  },
  "cells": [
    {
      "cell_type": "markdown",
      "metadata": {
        "id": "view-in-github",
        "colab_type": "text"
      },
      "source": [
        "<a href=\"https://colab.research.google.com/github/plmsz/python_101/blob/main/Learn_phyton.ipynb\" target=\"_parent\"><img src=\"https://colab.research.google.com/assets/colab-badge.svg\" alt=\"Open In Colab\"/></a>"
      ]
    },
    {
      "cell_type": "code",
      "execution_count": 72,
      "metadata": {
        "colab": {
          "base_uri": "https://localhost:8080/"
        },
        "id": "jHOsmGGOvz0k",
        "outputId": "7073ace4-7ce9-4825-d52f-643436462ad1"
      },
      "outputs": [
        {
          "output_type": "stream",
          "name": "stdout",
          "text": [
            "Hello, my name is Jane and I am 13 years old.\n"
          ]
        }
      ],
      "source": [
        "name = \"Jane\"\n",
        "my_age=13\n",
        "print(\"Hello, my name is \" + name + \" and I am \" + str(my_age) + \" years old.\")\n",
        "# Indentation is important, this line would throw an error (IndentationError: unexpected indent)\n",
        "#  test = 1"
      ]
    },
    {
      "cell_type": "code",
      "source": [
        "students = [\"John\", \"Mark\", \"Jane\", \"Sarah\"]\n",
        "students[1:3]\n",
        "# ['Mark', 'Jane']\n",
        "students[0:2]\n",
        "#['John', 'Mark']\n",
        "students[:2]\n",
        "#['John', 'Mark']\n",
        "students[:4]\n",
        "# ['John', 'Mark', 'Jane', 'Sarah']\n",
        "newStudents=['Alice', 'Diego']\n",
        "english_class = students + newStudents\n",
        "# ['John', 'Mark', 'Jane', 'Sarah', 'Alice', 'Diego']\n",
        "students[1:-1]\n",
        "#'Mark', 'Jane']"
      ],
      "metadata": {
        "colab": {
          "base_uri": "https://localhost:8080/"
        },
        "id": "tBqyxgzJv93K",
        "outputId": "3bd1c8f6-927f-44ef-9979-46b907bc3b64"
      },
      "execution_count": 73,
      "outputs": [
        {
          "output_type": "execute_result",
          "data": {
            "text/plain": [
              "['Mark', 'Jane']"
            ]
          },
          "metadata": {},
          "execution_count": 73
        }
      ]
    },
    {
      "cell_type": "code",
      "source": [],
      "metadata": {
        "id": "NDMWymRM_L_O"
      },
      "execution_count": null,
      "outputs": []
    },
    {
      "cell_type": "code",
      "source": [
        "students[1:3] = ['Rita', 'Maria']\n",
        "print(students)\n",
        "#['John', 'Rita', 'Maria', 'Sarah']"
      ],
      "metadata": {
        "colab": {
          "base_uri": "https://localhost:8080/"
        },
        "id": "mao_xXHa-n1w",
        "outputId": "153d95f2-3327-40ad-db55-6e366346f662"
      },
      "execution_count": 76,
      "outputs": [
        {
          "output_type": "stream",
          "name": "stdout",
          "text": [
            "['John', 'Rita', 'Maria', 'Sarah']\n"
          ]
        }
      ]
    },
    {
      "cell_type": "code",
      "source": [
        "population=[[\"Chicago\", 2.8], [\"LA\", 4.5], ['NYC', 8.1]]\n",
        "population2=[\"Houston\", 2.9]"
      ],
      "metadata": {
        "id": "4AjdaVAnzdZh"
      },
      "execution_count": 45,
      "outputs": []
    },
    {
      "cell_type": "code",
      "source": [
        "combined_population = population[1:] + population2\n",
        "print(combined_population)\n",
        "#[['LA', 4.5], ['NYC', 8.1], 'Houston', 2.9]"
      ],
      "metadata": {
        "colab": {
          "base_uri": "https://localhost:8080/"
        },
        "id": "3tamgyDK2Wyl",
        "outputId": "79416f82-31f9-479c-fbb4-ef16ce2b7431"
      },
      "execution_count": 46,
      "outputs": [
        {
          "output_type": "stream",
          "name": "stdout",
          "text": [
            "[['LA', 4.5], ['NYC', 8.1], 'Houston', 2.9]\n"
          ]
        }
      ]
    },
    {
      "cell_type": "code",
      "source": [
        "age = 19\n",
        "if age > 21:\n",
        "  print(\"You're allowed to dring\")\n",
        "elif age > 18 and age <21:\n",
        "  print(\"you can drink in brazil\")\n",
        "else:\n",
        "  print(\"you're too young\")\n",
        "#you can drink in brazil"
      ],
      "metadata": {
        "colab": {
          "base_uri": "https://localhost:8080/"
        },
        "id": "BIs_jlT32ovk",
        "outputId": "120f28be-2129-4f46-a52a-1de9efb74a4f"
      },
      "execution_count": 49,
      "outputs": [
        {
          "output_type": "stream",
          "name": "stdout",
          "text": [
            "you can drink in brazil\n"
          ]
        }
      ]
    },
    {
      "cell_type": "code",
      "source": [
        "for i in range(0,5):\n",
        "  print(i)\n",
        "\n",
        "for name in students:\n",
        "  print(name)"
      ],
      "metadata": {
        "colab": {
          "base_uri": "https://localhost:8080/"
        },
        "id": "gFfzx8MS3nfd",
        "outputId": "7553e9d5-b284-49ab-9390-db9eebd27d14"
      },
      "execution_count": 51,
      "outputs": [
        {
          "output_type": "stream",
          "name": "stdout",
          "text": [
            "0\n",
            "1\n",
            "2\n",
            "3\n",
            "4\n",
            "John\n",
            "Mark\n",
            "Jane\n",
            "Sarah\n"
          ]
        }
      ]
    },
    {
      "cell_type": "code",
      "source": [
        "person = {\"name\":\"Linda\", \"age\":45}\n",
        "person[\"age\"]\n",
        "person.get(\"phone\",\"Not Found\")\n",
        "person.keys()\n",
        "#dict_keys(['name', 'age'])\n",
        "person.items()\n",
        "#dict_items([('name', 'Linda'), ('age', 45)])\n",
        "person.values()"
      ],
      "metadata": {
        "colab": {
          "base_uri": "https://localhost:8080/"
        },
        "id": "d6B2JRXM3-8a",
        "outputId": "f3986dbd-bc0a-48e2-b46d-b8b41aea5cab"
      },
      "execution_count": 59,
      "outputs": [
        {
          "output_type": "execute_result",
          "data": {
            "text/plain": [
              "dict_items([('name', 'Linda'), ('age', 45)])"
            ]
          },
          "metadata": {},
          "execution_count": 59
        }
      ]
    },
    {
      "cell_type": "code",
      "source": [
        "for key, name in person.items():\n",
        "  print(key,name)\n",
        "  ''' name Linda\n",
        "      age 45 '''"
      ],
      "metadata": {
        "colab": {
          "base_uri": "https://localhost:8080/"
        },
        "id": "aLcPV9EX5Ygr",
        "outputId": "148b15cf-4230-4021-8eb4-72635ea05ce8"
      },
      "execution_count": 64,
      "outputs": [
        {
          "output_type": "stream",
          "name": "stdout",
          "text": [
            "name Linda\n",
            "age 45\n"
          ]
        }
      ]
    },
    {
      "cell_type": "code",
      "source": [
        "numbers_tupple=(6,3,2,1)\n",
        "numbers=[6,3,2,1]\n",
        "numbers.append(0)\n",
        "#you can't append in tupples\n",
        "print(numbers)"
      ],
      "metadata": {
        "colab": {
          "base_uri": "https://localhost:8080/"
        },
        "id": "WG5xm3DN4soi",
        "outputId": "01bde430-f12e-4960-c33e-f73f2ee70610"
      },
      "execution_count": 62,
      "outputs": [
        {
          "output_type": "stream",
          "name": "stdout",
          "text": [
            "[6, 3, 2, 1, 0]\n"
          ]
        }
      ]
    },
    {
      "cell_type": "code",
      "source": [
        "water = ['clear', 'high ph']\n",
        "a, b = water\n",
        "print(b)\n",
        "#high ph\n",
        "pets = ['cat', 'dog', 'bird', 'rabbit']\n",
        "a, *b, c = pets\n",
        "print('my favorite pet is', a, 'don`t care:', b, \"cute too:\", c)\n",
        "#my favorite pet is cat don`t care: ['dog', 'bird'] cute too: rabbit"
      ],
      "metadata": {
        "colab": {
          "base_uri": "https://localhost:8080/"
        },
        "id": "XdAStjNL5jEU",
        "outputId": "541c13f2-0ffe-4781-d3bf-565d66469b8b"
      },
      "execution_count": 68,
      "outputs": [
        {
          "output_type": "stream",
          "name": "stdout",
          "text": [
            "high ph\n",
            "my favorite pet is cat don`t care: ['dog', 'bird'] cute too: rabbit\n"
          ]
        }
      ]
    },
    {
      "cell_type": "code",
      "source": [
        "names = [\"John\", \"Mark\", \"Jane\", \"Sarah\"]\n",
        "new_name_list = list(map(lambda name: name + \"__\", names))\n",
        "print(new_name_list)\n",
        "#['John__', 'Mark__', 'Jane__', 'Sarah__']\n",
        "filtered_list = list(filter(lambda name: name[-1] == \"e\", names))\n",
        "print(filtered_list)\n",
        "new_name_list_2 = [name + '__' for name in names]\n",
        "print(new_name_list_2)\n",
        "new_name_list_3 = [name + \"__\" for name in names if name[-1]==\"e\"]\n",
        "print(new_name_list_3)\n",
        "#['Jane__']"
      ],
      "metadata": {
        "colab": {
          "base_uri": "https://localhost:8080/"
        },
        "id": "bpIn5ERQ_Ok-",
        "outputId": "3be1e134-a890-48be-8934-333f05a188e3"
      },
      "execution_count": 87,
      "outputs": [
        {
          "output_type": "stream",
          "name": "stdout",
          "text": [
            "['John__', 'Mark__', 'Jane__', 'Sarah__']\n",
            "['Jane']\n",
            "['John__', 'Mark__', 'Jane__', 'Sarah__']\n",
            "['Jane__']\n"
          ]
        }
      ]
    }
  ]
}